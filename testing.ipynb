{
 "cells": [
  {
   "cell_type": "code",
   "execution_count": 1,
   "id": "2ebd9f89",
   "metadata": {},
   "outputs": [],
   "source": [
    "from scipy.io import wavfile\n",
    "import matplotlib.pyplot as plt\n",
    "import numpy as np\n",
    "from numpy import *\n",
    "\n",
    "def hps(signal, rate, harmony = 3):\n",
    "    #jezeli dwa kanaly to usredniamy je\n",
    "    if len(signal.shape) == 2:        \n",
    "        signal = (signal[:,0]+signal[:,1])/2\n",
    "    \n",
    "    #przemnozenie przez funkcje okna\n",
    "    signal = signal * np.hamming(signal.shape[0])\n",
    "    \n",
    "    #obliczenie fft\n",
    "    spec = np.abs(fft.fft(signal))\n",
    "    \n",
    "    #obliczenie czestotliwosc (od 0 do rate)\n",
    "    freqs = np.arange(0, rate, rate/signal.size)\n",
    "    \n",
    "    #dlugosc finalnego spektrum\n",
    "    length = int(np.ceil(spec.size/harmony))\n",
    "    \n",
    "    #wyliczenie nowego spektrum i downsampling\n",
    "    new_spec = spec[:length].copy()\n",
    "    for i in range(2, harmony+1):\n",
    "        new_spec *= spec[::i][:length]\n",
    "        \n",
    "    #odfiltrowanie niepotrzebnych czestotliwosci\n",
    "    for i in range(len(freqs[:length])):\n",
    "        if freqs[i] < 70:\n",
    "            new_spec[i] = 0\n",
    "        \n",
    "    return (new_spec, freqs[:length])"
   ]
  },
  {
   "cell_type": "code",
   "execution_count": 2,
   "id": "9a8bccf9",
   "metadata": {},
   "outputs": [
    {
     "name": "stdout",
     "output_type": "stream",
     "text": [
      "(131971,)\n"
     ]
    },
    {
     "data": {
      "text/plain": [
       "[<matplotlib.lines.Line2D at 0x235248d45e0>]"
      ]
     },
     "execution_count": 2,
     "metadata": {},
     "output_type": "execute_result"
    },
    {
     "data": {
      "image/png": "[encoded data removed]",
      "text/plain": [
       "<Figure size 432x288 with 1 Axes>"
      ]
     },
     "metadata": {
      "needs_background": "light"
     },
     "output_type": "display_data"
    }
   ],
   "source": [
    "#przyklad\n",
    "rate, data = wavfile.read(\"005_M.wav\")\n",
    "print(data.shape)\n",
    "y, x = hps(data, rate)\n",
    "plt.xlim((0,300))\n",
    "plt.plot(x,y)"
   ]
  },
  {
   "cell_type": "code",
   "execution_count": 3,
   "id": "372b5232",
   "metadata": {},
   "outputs": [
    {
     "name": "stderr",
     "output_type": "stream",
     "text": [
      "<ipython-input-3-f1b9cb2af75a>:13: WavFileWarning: Reached EOF prematurely; finished at 613916 bytes, expected 613924 bytes from header.\n",
      "  rate, data = wavfile.read(file)\n"
     ]
    },
    {
     "name": "stdout",
     "output_type": "stream",
     "text": [
      "001_K.wav K K\n",
      "002_M.wav M M\n",
      "003_K.wav K K\n",
      "004_M.wav M M\n",
      "005_M.wav K M\n",
      "006_K.wav K K\n",
      "007_M.wav M M\n",
      "008_K.wav K K\n",
      "009_K.wav K K\n",
      "010_M.wav M M\n",
      "011_M.wav M M\n",
      "012_K.wav K K\n",
      "013_M.wav M M\n",
      "014_K.wav K K\n",
      "015_K.wav M K\n",
      "016_K.wav K K\n",
      "017_M.wav M M\n",
      "018_K.wav K K\n",
      "019_M.wav M M\n",
      "020_M.wav M M\n",
      "021_M.wav M M\n",
      "022_K.wav K K\n",
      "023_M.wav M M\n",
      "024_M.wav M M\n",
      "025_K.wav K K\n",
      "026_M.wav M M\n",
      "027_M.wav M M\n",
      "028_K.wav K K\n",
      "029_K.wav K K\n",
      "030_M.wav M M\n",
      "031_K.wav K K\n",
      "032_M.wav M M\n",
      "033_M.wav M M\n",
      "034_K.wav K K\n",
      "035_M.wav M M\n",
      "036_K.wav K K\n",
      "037_K.wav K K\n",
      "038_M.wav M M\n",
      "039_M.wav M M\n",
      "040_K.wav K K\n",
      "041_K.wav K K\n",
      "042_M.wav M M\n",
      "043_M.wav M M\n",
      "044_K.wav K K\n",
      "045_M.wav K M\n",
      "046_K.wav K K\n",
      "047_K.wav K K\n",
      "048_K.wav K K\n",
      "049_M.wav M M\n",
      "050_K.wav K K\n",
      "051_K.wav M K\n",
      "052_M.wav K M\n",
      "053_M.wav M M\n",
      "054_K.wav K K\n",
      "055_K.wav K K\n",
      "056_M.wav M M\n",
      "057_K.wav K K\n",
      "058_M.wav M M\n",
      "059_K.wav K K\n",
      "060_K.wav K K\n",
      "061_M.wav M M\n",
      "062_K.wav K K\n",
      "063_M.wav K M\n",
      "064_M.wav M M\n",
      "065_M.wav M M\n",
      "066_K.wav K K\n",
      "067_K.wav K K\n",
      "068_K.wav M K\n",
      "069_K.wav K K\n",
      "070_M.wav K M\n"
     ]
    },
    {
     "name": "stderr",
     "output_type": "stream",
     "text": [
      "<ipython-input-3-f1b9cb2af75a>:13: WavFileWarning: Chunk (non-data) not understood, skipping it.\n",
      "  rate, data = wavfile.read(file)\n"
     ]
    },
    {
     "name": "stdout",
     "output_type": "stream",
     "text": [
      "071_M.wav M M\n",
      "072_K.wav K K\n",
      "073_K.wav K K\n",
      "074_K.wav K K\n",
      "075_M.wav M M\n",
      "076_M.wav M M\n",
      "077_K.wav K K\n",
      "078_M.wav M M\n",
      "079_K.wav K K\n",
      "080_M.wav M M\n",
      "081_K.wav K K\n",
      "082_M.wav M M\n",
      "083_K.wav K K\n",
      "084_M.wav M M\n",
      "085_K.wav K K\n",
      "086_K.wav K K\n",
      "087_M.wav M M\n",
      "088_K.wav K K\n",
      "089_M.wav M M\n",
      "090_M.wav M M\n",
      "091_M.wav M M\n",
      "pomylek: 8 dokladnosc: 0.9120879120879121\n",
      "dobrze_rozpoznany_mezczyzna 40\n",
      "zle_rozpoznany_mezczyzna 3\n",
      "dobrze_rozpoznana_kobieta 43\n",
      "zle_rozpoznana_kobieta 5\n"
     ]
    }
   ],
   "source": [
    "from os import listdir\n",
    "\n",
    "pomylek = 0\n",
    "\n",
    "dobrze_rozpoznany_mezczyzna = 0\n",
    "zle_rozpoznany_mezczyzna = 0\n",
    "dobrze_rozpoznana_kobieta = 0\n",
    "zle_rozpoznana_kobieta = 0\n",
    "\n",
    "for file in listdir():\n",
    "    if file[0] != '0':\n",
    "        continue\n",
    "    rate, data = wavfile.read(file)    \n",
    "    y, x = hps(data, rate, harmony=3)\n",
    "    freq = x[np.argmax(y[1:])]\n",
    "    \n",
    "    if freq < 180:\n",
    "        print(file, \"M\", file[4])\n",
    "        if file[4] == 'K':\n",
    "            pomylek += 1\n",
    "            zle_rozpoznany_mezczyzna += 1\n",
    "        else:\n",
    "            dobrze_rozpoznany_mezczyzna += 1\n",
    "    else:\n",
    "        print(file, \"K\", file[4])\n",
    "        if file[4] == 'M':\n",
    "            pomylek += 1\n",
    "            zle_rozpoznana_kobieta += 1\n",
    "        else:\n",
    "            dobrze_rozpoznana_kobieta += 1\n",
    "            \n",
    "print(\"pomylek:\", pomylek, \"dokladnosc:\",(91-pomylek)/91)\n",
    "print(\"dobrze_rozpoznany_mezczyzna\", dobrze_rozpoznany_mezczyzna)\n",
    "print(\"zle_rozpoznany_mezczyzna\", zle_rozpoznany_mezczyzna)\n",
    "print(\"dobrze_rozpoznana_kobieta\", dobrze_rozpoznana_kobieta)\n",
    "print(\"zle_rozpoznana_kobieta\", zle_rozpoznana_kobieta)\n",
    "    "
   ]
  }
 ],
 "metadata": {
  "kernelspec": {
   "display_name": "Python 3",
   "language": "python",
   "name": "python3"
  },
  "language_info": {
   "codemirror_mode": {
    "name": "ipython",
    "version": 3
   },
   "file_extension": ".py",
   "mimetype": "text/x-python",
   "name": "python",
   "nbconvert_exporter": "python",
   "pygments_lexer": "ipython3",
   "version": "3.8.8"
  }
 },
 "nbformat": 4,
 "nbformat_minor": 5
}
